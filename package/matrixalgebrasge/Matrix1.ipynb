{
 "cells": [
  {
   "cell_type": "code",
   "execution_count": 27,
   "metadata": {},
   "outputs": [],
   "source": [
    "-\n",
    "        \n",
    "        \n"
   ]
  },
  {
   "cell_type": "code",
   "execution_count": 29,
   "metadata": {},
   "outputs": [
    {
     "name": "stdout",
     "output_type": "stream",
     "text": [
      "3\n",
      "3\n",
      "[[  3.   4.   5.]\n",
      " [  5.   6.   7.]\n",
      " [  8.   9.  10.]]\n",
      "3.0\n",
      "--------------\n",
      "--------------\n",
      "--------------\n",
      "[[ 1.  2.  3.]\n",
      " [ 4.  5.  6.]\n",
      " [ 1.  2.  3.]]\n",
      "--------------\n",
      "[[  4.   6.   8.]\n",
      " [  9.  11.  13.]\n",
      " [  9.  11.  13.]]\n"
     ]
    }
   ],
   "source": [
    "Ma1=MatrixA()\n",
    "Ma1.read_data_file('M1.txt')\n",
    "print(Ma1.nrow)\n",
    "print(Ma1.ncol)\n",
    "Ma1.print_matrix()\n",
    "print(Ma1.data_matrix[0][0])\n",
    "\n",
    "print('--------------')\n",
    "print('--------------')\n",
    "print('--------------')\n",
    "Ma2=MatrixA()\n",
    "Ma2.read_data_file('M2.txt')\n",
    "Ma2.print_matrix()\n",
    "print('--------------')\n",
    "Ma3=Ma1 + Ma2\n",
    "Ma3.print_matrix()"
   ]
  },
  {
   "cell_type": "code",
   "execution_count": null,
   "metadata": {
    "collapsed": true
   },
   "outputs": [],
   "source": []
  }
 ],
 "metadata": {
  "kernelspec": {
   "display_name": "Python 3",
   "language": "python",
   "name": "python3"
  },
  "language_info": {
   "codemirror_mode": {
    "name": "ipython",
    "version": 3
   },
   "file_extension": ".py",
   "mimetype": "text/x-python",
   "name": "python",
   "nbconvert_exporter": "python",
   "pygments_lexer": "ipython3",
   "version": "3.6.1"
  }
 },
 "nbformat": 4,
 "nbformat_minor": 2
}
